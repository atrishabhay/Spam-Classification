{
 "cells": [
  {
   "cell_type": "code",
   "execution_count": 1,
   "metadata": {},
   "outputs": [],
   "source": [
    "import pandas as pd\n",
    "import pickle\n",
    "\n",
    "from statistics import mean\n",
    "\n",
    "from sklearn.model_selection import StratifiedKFold\n",
    "from sklearn.linear_model import LogisticRegression\n",
    "from sklearn.svm import SVC\n",
    "from sklearn.tree import DecisionTreeClassifier\n",
    "from sklearn.ensemble import RandomForestClassifier\n",
    "from sklearn.model_selection import cross_val_score"
   ]
  },
  {
   "cell_type": "code",
   "execution_count": 2,
   "metadata": {},
   "outputs": [],
   "source": [
    "def getDataset():\n",
    "    \"\"\" Load the dataset and Returns dataframes of Input matrix (X) and Output labels (y)\n",
    "        Return: dataset\"\"\"\n",
    "    \n",
    "    # Load the dataset from spambase.data\n",
    "    dataframe = pd.read_csv('spambase.data', header=None)\n",
    "    X = dataframe.drop(57, axis=1)\n",
    "    y = dataframe[57]\n",
    "    \n",
    "    ### Storing the dataset values\n",
    "    dataset = (X, y)\n",
    "#     with open('dataset.pkl', 'wb') as fout:\n",
    "#         pickle.dump(dataset, fout)\n",
    "    return dataset"
   ]
  },
  {
   "cell_type": "code",
   "execution_count": 3,
   "metadata": {},
   "outputs": [],
   "source": [
    "def getScore(model, X_train, X_test, y_train, y_test):\n",
    "    \"\"\" Train the dataset on the given model and evaluate score on the test set\n",
    "        Input:\n",
    "            model: Classification Model\n",
    "            X_train: training input for training\n",
    "            X_test: training input for testing\n",
    "            y_train: output labels for training\n",
    "            y_test: output labels for testing\n",
    "        Return: accuracy score of the model \"\"\"\n",
    "    \n",
    "    model.fit(X_train, y_train)\n",
    "    return model.score(X_test, y_test)"
   ]
  },
  {
   "cell_type": "code",
   "execution_count": 4,
   "metadata": {},
   "outputs": [],
   "source": [
    "def evaluate(model, kfold, X, y):\n",
    "    \"\"\" Evaluate the model for given dataset using k-fold Cross-Validation\n",
    "        Input:\n",
    "            model: Classification Model\n",
    "            kfold: number of split of the dataset for cross validation\n",
    "            X: input data\n",
    "            y: output labels\n",
    "        Return: average scores\"\"\"\n",
    "    \n",
    "    # score list to store all the eval score\n",
    "    scores = []\n",
    "    \n",
    "    # split the training and testing dataset into k-folds using StratifiedKFold\n",
    "    folds = StratifiedKFold(n_splits=kfold)\n",
    "    for train_idx, test_idx in folds.split(X, y):\n",
    "        X_train, X_test, y_train, y_test = X.iloc[train_idx], X.iloc[test_idx], y.iloc[train_idx], y.iloc[test_idx]\n",
    "        scores.append(getScore(model, X_train, X_test, y_train, y_test))\n",
    "    \n",
    "    return mean(scores)"
   ]
  },
  {
   "cell_type": "code",
   "execution_count": 5,
   "metadata": {},
   "outputs": [],
   "source": [
    "def main(argv):\n",
    "    \"\"\" Load dataset and evaluate on various classification models\n",
    "        All the kfold values used below are assigned after iteratively checking the accuracy of the model\"\"\"\n",
    "    \n",
    "    ### Read Dataset\n",
    "    X, y = getDataset()\n",
    "    \n",
    "    ### Evaluate spam dataset on various Classifier\n",
    "    print('Logistic Regression Classification:')\n",
    "    acc_log = evaluate(LogisticRegression(), 9, X, y)\n",
    "    print(acc_log)\n",
    "    \n",
    "    print('SVM Classification:')\n",
    "    acc_svc = evaluate(SVC(), 10, X, y)\n",
    "    print(acc_svc)\n",
    "    \n",
    "    print('Decision Tree Classification:')\n",
    "    acc_dtc = evaluate(DecisionTreeClassifier(), 10, X, y)\n",
    "    print(acc_dtc)\n",
    "    \n",
    "    print('RandomForest Classification:')\n",
    "    acc_rf = evaluate(RandomForestClassifier(n_estimators=50), 9, X, y)\n",
    "    print(acc_rf)\n",
    "    print('Best result is observed from Random Forest: ', acc_rf, '\\n')\n",
    "    \n",
    "    \n",
    "    \n",
    "    ### Another effective approach to evaluate a model using cross_val_score method\n",
    "    print('Evaluate models using cross_val_score()')\n",
    "    \n",
    "    print('Logistic Regression Classification using cross_val_score():')\n",
    "    score_lr = mean(cross_val_score(LogisticRegression(), X, y, cv=9))\n",
    "    print(score_lr)\n",
    "    \n",
    "    print('SVM Classification using cross_val_score():')\n",
    "    score_svc = mean(cross_val_score(SVC(), X, y, cv=10))\n",
    "    print(score_svc)\n",
    "    \n",
    "    print('Decision Tree Classification using cross_val_score():')\n",
    "    score_dt = mean(cross_val_score(DecisionTreeClassifier(), X, y, cv=10))\n",
    "    print(score_dt)\n",
    "    \n",
    "    print('RandomForest Classification using cross_val_score():')\n",
    "    score_rf = mean(cross_val_score(RandomForestClassifier(n_estimators=50), X, y, cv=9))\n",
    "    print(score_rf)\n",
    "    print('Best result is observed from Random Forest (using cross_val_score()): ', score_rf, '\\n')"
   ]
  },
  {
   "cell_type": "code",
   "execution_count": 6,
   "metadata": {},
   "outputs": [
    {
     "name": "stdout",
     "output_type": "stream",
     "text": [
      "Logistic Regression Classification:\n",
      "0.9239064901550422\n",
      "SVM Classification:\n",
      "0.8152513943005812\n",
      "Decision Tree Classification:\n",
      "0.898242619294042\n",
      "RandomForest Classification:\n",
      "0.9419343612635313\n",
      "Best result is observed from Random Forest:  0.9419343612635313 \n",
      "\n",
      "Evaluate models using cross_val_score()\n",
      "Logistic Regression Classification using cross_val_score():\n",
      "0.9239064901550422\n",
      "SVM Classification using cross_val_score():\n",
      "0.8152513943005812\n",
      "Decision Tree Classification using cross_val_score():\n",
      "0.8997634152951738\n",
      "RandomForest Classification using cross_val_score():\n",
      "0.9425926358937791\n",
      "Best result is observed from Random Forest (using cross_val_score()):  0.9425926358937791 \n",
      "\n"
     ]
    }
   ],
   "source": [
    "if __name__ == '__main__':\n",
    "    main([])"
   ]
  },
  {
   "cell_type": "code",
   "execution_count": null,
   "metadata": {},
   "outputs": [],
   "source": []
  }
 ],
 "metadata": {
  "kernelspec": {
   "display_name": "Python 3",
   "language": "python",
   "name": "python3"
  },
  "language_info": {
   "codemirror_mode": {
    "name": "ipython",
    "version": 3
   },
   "file_extension": ".py",
   "mimetype": "text/x-python",
   "name": "python",
   "nbconvert_exporter": "python",
   "pygments_lexer": "ipython3",
   "version": "3.7.2"
  }
 },
 "nbformat": 4,
 "nbformat_minor": 2
}
